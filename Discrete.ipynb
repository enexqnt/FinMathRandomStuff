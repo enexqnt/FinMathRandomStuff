{
 "cells": [
  {
   "cell_type": "code",
   "execution_count": 1,
   "metadata": {},
   "outputs": [],
   "source": [
    "import pandas as pd\n",
    "import numpy as np"
   ]
  },
  {
   "cell_type": "markdown",
   "metadata": {},
   "source": [
    "# Tree computation\n",
    "\n",
    "## Binomial"
   ]
  },
  {
   "cell_type": "code",
   "execution_count": 2,
   "metadata": {},
   "outputs": [],
   "source": [
    "def node_bin(S0,u,d,additive=True,dividend=0,N=1):\n",
    "    if additive==True:\n",
    "        S=(S0-dividend) +(d * (np.arange(N,-1,-1)) + u * (np.arange(0,N+1,1)) )\n",
    "    elif additive==False:\n",
    "        S=(S0-dividend) *d ** (np.arange(N,-1,-1)) * u ** (np.arange(0,N+1,1)) \n",
    "    return S"
   ]
  },
  {
   "cell_type": "code",
   "execution_count": 3,
   "metadata": {},
   "outputs": [],
   "source": [
    "def binomial(S0, u,d, additive=True,dividend=0,N=1):\n",
    "    l={}\n",
    "    for i in range(0,N+1):\n",
    "        l[i]=node_bin(S0,u,d,N=i,additive=additive,dividend=dividend)\n",
    "    return l"
   ]
  },
  {
   "cell_type": "code",
   "execution_count": 11,
   "metadata": {},
   "outputs": [
    {
     "data": {
      "text/plain": [
       "{0: array([2.]), 1: array([1.97, 2.08]), 2: array([1.94, 2.05, 2.16])}"
      ]
     },
     "execution_count": 11,
     "metadata": {},
     "output_type": "execute_result"
    }
   ],
   "source": [
    "binomial(2,0.08,-0.03,N=2)"
   ]
  },
  {
   "cell_type": "markdown",
   "metadata": {},
   "source": [
    "## Trinomial"
   ]
  },
  {
   "cell_type": "code",
   "execution_count": 4,
   "metadata": {},
   "outputs": [],
   "source": [
    "def node_trin(S0,u,m,d,additive=True,dividend=0):\n",
    "    if additive==True:\n",
    "        S=S0+np.eye(3,3)@(np.array([d,m,u]))\n",
    "    elif additive==False:\n",
    "        S=S0*np.eye(3,3)@(np.array([d,m,u]))\n",
    "    return S"
   ]
  },
  {
   "cell_type": "code",
   "execution_count": 13,
   "metadata": {},
   "outputs": [],
   "source": [
    "def trinominal(S0,u,m,d,additive=True,dividend=0,N=1):\n",
    "    a={}\n",
    "    for c in range(0,N):\n",
    "        l=[]\n",
    "        if c==0:\n",
    "            n=S0\n",
    "            l=node_trin(n,u,m,d,additive,dividend)\n",
    "        else:\n",
    "            n=a[c-1]\n",
    "            for i in range(0,len(n)):\n",
    "                l.append(node_trin(n[i],u,m,d,additive,dividend))\n",
    "            l=np.concatenate(l)\n",
    "        a[c]=l\n",
    "    return a"
   ]
  },
  {
   "cell_type": "code",
   "execution_count": 6,
   "metadata": {},
   "outputs": [],
   "source": [
    "u,m,d=1.23,0.7,0.6\n",
    "\n",
    "tr=trinominal(1,u,m,d,additive=False,N=2)"
   ]
  },
  {
   "cell_type": "markdown",
   "metadata": {},
   "source": [
    "# Absence Of Arbitrage"
   ]
  },
  {
   "cell_type": "code",
   "execution_count": 7,
   "metadata": {},
   "outputs": [],
   "source": [
    "def aoa(n,s0,r):\n",
    "    if (n[0]<s0*(1+r))and (n[1]>s0*(1+r)):\n",
    "        print('Ok')\n",
    "    else:\n",
    "        print('Arbitrage Opportunity!')\n",
    "        if n[0]>=s0*(1+r):\n",
    "            print('Check down')\n",
    "        if n[1]<=s0*(1+r):\n",
    "            print('Check up')"
   ]
  },
  {
   "cell_type": "code",
   "execution_count": 14,
   "metadata": {},
   "outputs": [
    {
     "name": "stdout",
     "output_type": "stream",
     "text": [
      "Ok\n"
     ]
    }
   ],
   "source": [
    "aoa(n=[0.0162,0.01836],s0=0.018,r=0.015)"
   ]
  },
  {
   "cell_type": "markdown",
   "metadata": {},
   "source": [
    "# Probability measures "
   ]
  },
  {
   "cell_type": "code",
   "execution_count": 15,
   "metadata": {},
   "outputs": [],
   "source": [
    "def solving_b(n,s0):\n",
    "    u=(s0-n[0])/(n[1]-n[0])\n",
    "    d=1-u\n",
    "    return d,u"
   ]
  },
  {
   "cell_type": "code",
   "execution_count": 23,
   "metadata": {},
   "outputs": [],
   "source": [
    "from sympy import solve\n",
    "from sympy import symbols\n",
    "import sympy\n",
    "import re\n",
    "\n",
    "def solving_t(n,s0):\n",
    "\n",
    "    x1,x2,x3 = symbols('x_d x_m x_u')\n",
    "    aa=[]\n",
    "    for i in [(x1,x2),(x2,x3),(x3,x1)]:\n",
    "        l=[]\n",
    "        eq=[(x1+x2+x3-1),(n[0]*x1+n[1]*x2+n[2]*x3-s0)]\n",
    "        solution=sympy.solve(eq,i)\n",
    "        print(solution)\n",
    "        for x in [0,1]:\n",
    "            for a in [0,1]:\n",
    "                if str(list(solution.values())[x])[0]=='-':\n",
    "                    print(str(list(solution.values())[x])[0])\n",
    "                    l.append(float(re.findall('[-+]*.\\d.\\d+',str(list(solution.values())[x]))[a].replace(\" \",\"\")))\n",
    "\n",
    "                else:\n",
    "                    l.append(float(re.findall('[-+]*.\\d.\\d+','+'+str(list(solution.values())[x]))[a].replace(\" \",\"\")))\n",
    "        aa.append(np.array(l))\n",
    "\n",
    "    return prob(aa)\n",
    "\n",
    "def prob(aa):\n",
    "    xx=np.zeros((3,2))\n",
    "    ## DOWN\n",
    "    xx[0][1]=-aa[1][0]/aa[1][1]      # +\n",
    "    xx[0][0]=-(aa[1][0]-1)/aa[1][1]  # -\n",
    "\n",
    "    ## MIDDLE\n",
    "    xx[1][1]=-aa[2][2]/aa[2][3]      # +\n",
    "    xx[1][0]=-(aa[2][0]-1)/aa[2][1] # -\n",
    "\n",
    "    ## UP\n",
    "    xx[2][1]=-aa[0][2]/aa[0][3]\n",
    "    xx[2][0]=-aa[0][1]/aa[0][0]\n",
    "\n",
    "    return pd.DataFrame(xx.clip(0),index=['Down','Middle','Up'],columns=['Min','Max'])"
   ]
  },
  {
   "cell_type": "code",
   "execution_count": 55,
   "metadata": {},
   "outputs": [
    {
     "name": "stdout",
     "output_type": "stream",
     "text": [
      "{x_d: 5.3*x_u - 4.11111111111111, x_m: 5.11111111111111 - 6.3*x_u}\n",
      "{x_m: 0.224318658280922 - 1.18867924528302*x_d, x_u: 0.188679245283019*x_d + 0.775681341719078}\n",
      "{x_u: 0.811287477954145 - 0.158730158730159*x_m, x_d: 0.188712522045855 - 0.841269841269841*x_m}\n"
     ]
    },
    {
     "data": {
      "text/html": [
       "<div>\n",
       "<style scoped>\n",
       "    .dataframe tbody tr th:only-of-type {\n",
       "        vertical-align: middle;\n",
       "    }\n",
       "\n",
       "    .dataframe tbody tr th {\n",
       "        vertical-align: top;\n",
       "    }\n",
       "\n",
       "    .dataframe thead th {\n",
       "        text-align: right;\n",
       "    }\n",
       "</style>\n",
       "<table border=\"1\" class=\"dataframe\">\n",
       "  <thead>\n",
       "    <tr style=\"text-align: right;\">\n",
       "      <th></th>\n",
       "      <th>Min</th>\n",
       "      <th>Max</th>\n",
       "    </tr>\n",
       "  </thead>\n",
       "  <tbody>\n",
       "    <tr>\n",
       "      <th>Down</th>\n",
       "      <td>0.000000</td>\n",
       "      <td>0.188713</td>\n",
       "    </tr>\n",
       "    <tr>\n",
       "      <th>Middle</th>\n",
       "      <td>0.000000</td>\n",
       "      <td>0.224319</td>\n",
       "    </tr>\n",
       "    <tr>\n",
       "      <th>Up</th>\n",
       "      <td>0.775681</td>\n",
       "      <td>0.811287</td>\n",
       "    </tr>\n",
       "  </tbody>\n",
       "</table>\n",
       "</div>"
      ],
      "text/plain": [
       "             Min       Max\n",
       "Down    0.000000  0.188713\n",
       "Middle  0.000000  0.224319\n",
       "Up      0.775681  0.811287"
      ]
     },
     "execution_count": 55,
     "metadata": {},
     "output_type": "execute_result"
    }
   ],
   "source": [
    "solving_t([0.6,0.7,1.23], 1/0.9)"
   ]
  },
  {
   "cell_type": "code",
   "execution_count": 87,
   "metadata": {},
   "outputs": [
    {
     "data": {
      "text/plain": [
       "array([0.1296    , 0.1764    , 0.544644  , 0.1764    , 0.2401    ,\n",
       "       0.741321  , 0.544644  , 0.741321  , 2.28886641])"
      ]
     },
     "execution_count": 87,
     "metadata": {},
     "output_type": "execute_result"
    }
   ],
   "source": [
    "trinominal(1,u=1.23,m=0.7,d=0.6,additive=False,N=2)[1]**2"
   ]
  },
  {
   "cell_type": "code",
   "execution_count": 93,
   "metadata": {},
   "outputs": [
    {
     "data": {
      "text/plain": [
       "0.8822599999999999"
      ]
     },
     "execution_count": 93,
     "metadata": {},
     "output_type": "execute_result"
    }
   ],
   "source": [
    "0.622*0.23+0.96*0.77"
   ]
  },
  {
   "cell_type": "code",
   "execution_count": 95,
   "metadata": {},
   "outputs": [
    {
     "name": "stdout",
     "output_type": "stream",
     "text": [
      "{x_d: 7.89473684210526*x_u - 4.36842105263158, x_m: 5.36842105263158 - 8.89473684210526*x_u}\n",
      "{x_m: 0.446666666666667 - 1.12666666666667*x_d, x_u: 0.126666666666667*x_d + 0.553333333333333}\n",
      "{x_u: 0.603550295857988 - 0.112426035502959*x_m, x_d: 0.396449704142012 - 0.887573964497041*x_m}\n"
     ]
    },
    {
     "data": {
      "text/html": [
       "<div>\n",
       "<style scoped>\n",
       "    .dataframe tbody tr th:only-of-type {\n",
       "        vertical-align: middle;\n",
       "    }\n",
       "\n",
       "    .dataframe tbody tr th {\n",
       "        vertical-align: top;\n",
       "    }\n",
       "\n",
       "    .dataframe thead th {\n",
       "        text-align: right;\n",
       "    }\n",
       "</style>\n",
       "<table border=\"1\" class=\"dataframe\">\n",
       "  <thead>\n",
       "    <tr style=\"text-align: right;\">\n",
       "      <th></th>\n",
       "      <th>Min</th>\n",
       "      <th>Max</th>\n",
       "    </tr>\n",
       "  </thead>\n",
       "  <tbody>\n",
       "    <tr>\n",
       "      <th>Down</th>\n",
       "      <td>0.000000</td>\n",
       "      <td>0.396450</td>\n",
       "    </tr>\n",
       "    <tr>\n",
       "      <th>Middle</th>\n",
       "      <td>0.000000</td>\n",
       "      <td>0.446667</td>\n",
       "    </tr>\n",
       "    <tr>\n",
       "      <th>Up</th>\n",
       "      <td>0.553333</td>\n",
       "      <td>0.603550</td>\n",
       "    </tr>\n",
       "  </tbody>\n",
       "</table>\n",
       "</div>"
      ],
      "text/plain": [
       "             Min       Max\n",
       "Down    0.000000  0.396450\n",
       "Middle  0.000000  0.446667\n",
       "Up      0.553333  0.603550"
      ]
     },
     "execution_count": 95,
     "metadata": {},
     "output_type": "execute_result"
    }
   ],
   "source": [
    "solving_t([1.06,1.25,2.75],2.08)"
   ]
  },
  {
   "cell_type": "code",
   "execution_count": 37,
   "metadata": {},
   "outputs": [
    {
     "data": {
      "text/plain": [
       "{0: array([0.6 , 0.7 , 1.23]),\n",
       " 1: array([0.36  , 0.42  , 0.738 , 0.42  , 0.49  , 0.861 , 0.738 , 0.861 ,\n",
       "        1.5129])}"
      ]
     },
     "execution_count": 37,
     "metadata": {},
     "output_type": "execute_result"
    }
   ],
   "source": [
    "trinominal(1,u=1.23,m=0.7,d=0.6, additive=False, N=2)"
   ]
  },
  {
   "cell_type": "code",
   "execution_count": 140,
   "metadata": {},
   "outputs": [
    {
     "name": "stdout",
     "output_type": "stream",
     "text": [
      "{x_d: 5.3*x_u - 3.98901098901099, x_m: 4.98901098901099 - 6.3*x_u}\n",
      "{x_m: 0.247356417167738 - 1.18867924528302*x_d, x_u: 0.188679245283019*x_d + 0.752643582832262}\n",
      "{x_u: 0.79190650619222 - 0.158730158730159*x_m, x_d: 0.20809349380778 - 0.841269841269841*x_m}\n"
     ]
    },
    {
     "data": {
      "text/html": [
       "<div>\n",
       "<style scoped>\n",
       "    .dataframe tbody tr th:only-of-type {\n",
       "        vertical-align: middle;\n",
       "    }\n",
       "\n",
       "    .dataframe tbody tr th {\n",
       "        vertical-align: top;\n",
       "    }\n",
       "\n",
       "    .dataframe thead th {\n",
       "        text-align: right;\n",
       "    }\n",
       "</style>\n",
       "<table border=\"1\" class=\"dataframe\">\n",
       "  <thead>\n",
       "    <tr style=\"text-align: right;\">\n",
       "      <th></th>\n",
       "      <th>Min</th>\n",
       "      <th>Max</th>\n",
       "    </tr>\n",
       "  </thead>\n",
       "  <tbody>\n",
       "    <tr>\n",
       "      <th>Down</th>\n",
       "      <td>0.000000</td>\n",
       "      <td>0.208093</td>\n",
       "    </tr>\n",
       "    <tr>\n",
       "      <th>Middle</th>\n",
       "      <td>0.000000</td>\n",
       "      <td>0.247356</td>\n",
       "    </tr>\n",
       "    <tr>\n",
       "      <th>Up</th>\n",
       "      <td>0.752644</td>\n",
       "      <td>0.791907</td>\n",
       "    </tr>\n",
       "  </tbody>\n",
       "</table>\n",
       "</div>"
      ],
      "text/plain": [
       "             Min       Max\n",
       "Down    0.000000  0.208093\n",
       "Middle  0.000000  0.247356\n",
       "Up      0.752644  0.791907"
      ]
     },
     "execution_count": 140,
     "metadata": {},
     "output_type": "execute_result"
    }
   ],
   "source": [
    "solving(tr[1][0:3],tr[0][0]/0.91)"
   ]
  },
  {
   "cell_type": "code",
   "execution_count": 141,
   "metadata": {},
   "outputs": [
    {
     "name": "stdout",
     "output_type": "stream",
     "text": [
      "{x_d: 5.3*x_u - 3.98901098901099, x_m: 4.98901098901099 - 6.3*x_u}\n",
      "{x_m: 0.247356417167738 - 1.18867924528302*x_d, x_u: 0.188679245283019*x_d + 0.752643582832262}\n",
      "{x_u: 0.79190650619222 - 0.158730158730159*x_m, x_d: 0.20809349380778 - 0.841269841269841*x_m}\n"
     ]
    },
    {
     "data": {
      "text/html": [
       "<div>\n",
       "<style scoped>\n",
       "    .dataframe tbody tr th:only-of-type {\n",
       "        vertical-align: middle;\n",
       "    }\n",
       "\n",
       "    .dataframe tbody tr th {\n",
       "        vertical-align: top;\n",
       "    }\n",
       "\n",
       "    .dataframe thead th {\n",
       "        text-align: right;\n",
       "    }\n",
       "</style>\n",
       "<table border=\"1\" class=\"dataframe\">\n",
       "  <thead>\n",
       "    <tr style=\"text-align: right;\">\n",
       "      <th></th>\n",
       "      <th>Min</th>\n",
       "      <th>Max</th>\n",
       "    </tr>\n",
       "  </thead>\n",
       "  <tbody>\n",
       "    <tr>\n",
       "      <th>Down</th>\n",
       "      <td>0.000000</td>\n",
       "      <td>0.208093</td>\n",
       "    </tr>\n",
       "    <tr>\n",
       "      <th>Middle</th>\n",
       "      <td>0.000000</td>\n",
       "      <td>0.247356</td>\n",
       "    </tr>\n",
       "    <tr>\n",
       "      <th>Up</th>\n",
       "      <td>0.752644</td>\n",
       "      <td>0.791907</td>\n",
       "    </tr>\n",
       "  </tbody>\n",
       "</table>\n",
       "</div>"
      ],
      "text/plain": [
       "             Min       Max\n",
       "Down    0.000000  0.208093\n",
       "Middle  0.000000  0.247356\n",
       "Up      0.752644  0.791907"
      ]
     },
     "execution_count": 141,
     "metadata": {},
     "output_type": "execute_result"
    }
   ],
   "source": [
    "solving(tr[1][3:6],tr[0][1]/0.91)"
   ]
  },
  {
   "cell_type": "code",
   "execution_count": 135,
   "metadata": {},
   "outputs": [
    {
     "name": "stdout",
     "output_type": "stream",
     "text": [
      "{x_d: 5.3*x_u - 2.1, x_m: 3.1 - 6.3*x_u}\n",
      "{x_m: 0.60377358490566 - 1.18867924528302*x_d, x_u: 0.188679245283019*x_d + 0.39622641509434}\n",
      "{x_u: 0.492063492063492 - 0.158730158730159*x_m, x_d: 0.507936507936508 - 0.841269841269841*x_m}\n"
     ]
    },
    {
     "data": {
      "text/html": [
       "<div>\n",
       "<style scoped>\n",
       "    .dataframe tbody tr th:only-of-type {\n",
       "        vertical-align: middle;\n",
       "    }\n",
       "\n",
       "    .dataframe tbody tr th {\n",
       "        vertical-align: top;\n",
       "    }\n",
       "\n",
       "    .dataframe thead th {\n",
       "        text-align: right;\n",
       "    }\n",
       "</style>\n",
       "<table border=\"1\" class=\"dataframe\">\n",
       "  <thead>\n",
       "    <tr style=\"text-align: right;\">\n",
       "      <th></th>\n",
       "      <th>Min</th>\n",
       "      <th>Max</th>\n",
       "    </tr>\n",
       "  </thead>\n",
       "  <tbody>\n",
       "    <tr>\n",
       "      <th>Down</th>\n",
       "      <td>0.000000</td>\n",
       "      <td>0.507937</td>\n",
       "    </tr>\n",
       "    <tr>\n",
       "      <th>Middle</th>\n",
       "      <td>0.000000</td>\n",
       "      <td>0.603774</td>\n",
       "    </tr>\n",
       "    <tr>\n",
       "      <th>Up</th>\n",
       "      <td>0.396226</td>\n",
       "      <td>0.492063</td>\n",
       "    </tr>\n",
       "  </tbody>\n",
       "</table>\n",
       "</div>"
      ],
      "text/plain": [
       "             Min       Max\n",
       "Down    0.000000  0.507937\n",
       "Middle  0.000000  0.603774\n",
       "Up      0.396226  0.492063"
      ]
     },
     "execution_count": 135,
     "metadata": {},
     "output_type": "execute_result"
    }
   ],
   "source": [
    "solving(tr[1][6:9],0.91*tr[0][2])"
   ]
  },
  {
   "cell_type": "code",
   "execution_count": 220,
   "metadata": {},
   "outputs": [
    {
     "name": "stdout",
     "output_type": "stream",
     "text": [
      "{x_d: 14.0*x_u - 0.567138323027723, x_m: 1.56713832302772 - 15.0*x_u}\n",
      "{x_m: 0.959490119783734 - 1.07142857142857*x_d, x_u: 0.0714285714285714*x_d + 0.0405098802162659}\n",
      "{x_u: 0.104475888201848 - 0.0666666666666667*x_m, x_d: 0.895524111798152 - 0.933333333333333*x_m}\n"
     ]
    },
    {
     "data": {
      "text/html": [
       "<div>\n",
       "<style scoped>\n",
       "    .dataframe tbody tr th:only-of-type {\n",
       "        vertical-align: middle;\n",
       "    }\n",
       "\n",
       "    .dataframe tbody tr th {\n",
       "        vertical-align: top;\n",
       "    }\n",
       "\n",
       "    .dataframe thead th {\n",
       "        text-align: right;\n",
       "    }\n",
       "</style>\n",
       "<table border=\"1\" class=\"dataframe\">\n",
       "  <thead>\n",
       "    <tr style=\"text-align: right;\">\n",
       "      <th></th>\n",
       "      <th>Min</th>\n",
       "      <th>Max</th>\n",
       "    </tr>\n",
       "  </thead>\n",
       "  <tbody>\n",
       "    <tr>\n",
       "      <th>Down</th>\n",
       "      <td>0.00000</td>\n",
       "      <td>0.895524</td>\n",
       "    </tr>\n",
       "    <tr>\n",
       "      <th>Middle</th>\n",
       "      <td>0.00000</td>\n",
       "      <td>0.959490</td>\n",
       "    </tr>\n",
       "    <tr>\n",
       "      <th>Up</th>\n",
       "      <td>0.04051</td>\n",
       "      <td>0.000000</td>\n",
       "    </tr>\n",
       "  </tbody>\n",
       "</table>\n",
       "</div>"
      ],
      "text/plain": [
       "            Min       Max\n",
       "Down    0.00000  0.895524\n",
       "Middle  0.00000  0.959490\n",
       "Up      0.04051  0.000000"
      ]
     },
     "execution_count": 220,
     "metadata": {},
     "output_type": "execute_result"
    }
   ],
   "source": [
    "solving_t([1.502,1.603,3.017],1.3/0.783)"
   ]
  },
  {
   "cell_type": "code",
   "execution_count": 221,
   "metadata": {},
   "outputs": [
    {
     "name": "stdout",
     "output_type": "stream",
     "text": [
      "{x_d: 14.0*x_u - 0.292743067410198, x_m: 1.2927430674102 - 15.0*x_u}\n",
      "{x_m: 0.979089780899272 - 1.07142857142857*x_d, x_u: 0.0714285714285714*x_d + 0.0209102191007284}\n",
      "{x_u: 0.0861828711606799 - 0.0666666666666667*x_m, x_d: 0.91381712883932 - 0.933333333333333*x_m}\n"
     ]
    },
    {
     "data": {
      "text/html": [
       "<div>\n",
       "<style scoped>\n",
       "    .dataframe tbody tr th:only-of-type {\n",
       "        vertical-align: middle;\n",
       "    }\n",
       "\n",
       "    .dataframe tbody tr th {\n",
       "        vertical-align: top;\n",
       "    }\n",
       "\n",
       "    .dataframe thead th {\n",
       "        text-align: right;\n",
       "    }\n",
       "</style>\n",
       "<table border=\"1\" class=\"dataframe\">\n",
       "  <thead>\n",
       "    <tr style=\"text-align: right;\">\n",
       "      <th></th>\n",
       "      <th>Min</th>\n",
       "      <th>Max</th>\n",
       "    </tr>\n",
       "  </thead>\n",
       "  <tbody>\n",
       "    <tr>\n",
       "      <th>Down</th>\n",
       "      <td>0.00000</td>\n",
       "      <td>0.913817</td>\n",
       "    </tr>\n",
       "    <tr>\n",
       "      <th>Middle</th>\n",
       "      <td>0.00000</td>\n",
       "      <td>0.979090</td>\n",
       "    </tr>\n",
       "    <tr>\n",
       "      <th>Up</th>\n",
       "      <td>0.02091</td>\n",
       "      <td>0.000000</td>\n",
       "    </tr>\n",
       "  </tbody>\n",
       "</table>\n",
       "</div>"
      ],
      "text/plain": [
       "            Min       Max\n",
       "Down    0.00000  0.913817\n",
       "Middle  0.00000  0.979090\n",
       "Up      0.02091  0.000000"
      ]
     },
     "execution_count": 221,
     "metadata": {},
     "output_type": "execute_result"
    }
   ],
   "source": [
    "solving_t([1.402,1.503,2.917],1.2/0.783)"
   ]
  },
  {
   "cell_type": "code",
   "execution_count": 224,
   "metadata": {},
   "outputs": [
    {
     "name": "stdout",
     "output_type": "stream",
     "text": [
      "{x_d: 4.54545454545455*x_u + 0.002, x_m: 0.998 - 5.54545454545455*x_u}\n",
      "{x_m: 1.00044 - 1.22*x_d, x_u: 0.22*x_d - 0.00044}\n",
      "{x_u: 0.179967213114754 - 0.180327868852459*x_m, x_d: 0.820032786885246 - 0.819672131147541*x_m}\n"
     ]
    },
    {
     "data": {
      "text/html": [
       "<div>\n",
       "<style scoped>\n",
       "    .dataframe tbody tr th:only-of-type {\n",
       "        vertical-align: middle;\n",
       "    }\n",
       "\n",
       "    .dataframe tbody tr th {\n",
       "        vertical-align: top;\n",
       "    }\n",
       "\n",
       "    .dataframe thead th {\n",
       "        text-align: right;\n",
       "    }\n",
       "</style>\n",
       "<table border=\"1\" class=\"dataframe\">\n",
       "  <thead>\n",
       "    <tr style=\"text-align: right;\">\n",
       "      <th></th>\n",
       "      <th>Min</th>\n",
       "      <th>Max</th>\n",
       "    </tr>\n",
       "  </thead>\n",
       "  <tbody>\n",
       "    <tr>\n",
       "      <th>Down</th>\n",
       "      <td>0.000361</td>\n",
       "      <td>0.820033</td>\n",
       "    </tr>\n",
       "    <tr>\n",
       "      <th>Middle</th>\n",
       "      <td>0.000000</td>\n",
       "      <td>1.000440</td>\n",
       "    </tr>\n",
       "    <tr>\n",
       "      <th>Up</th>\n",
       "      <td>0.000000</td>\n",
       "      <td>0.179967</td>\n",
       "    </tr>\n",
       "  </tbody>\n",
       "</table>\n",
       "</div>"
      ],
      "text/plain": [
       "             Min       Max\n",
       "Down    0.000361  0.820033\n",
       "Middle  0.000000  1.000440\n",
       "Up      0.000000  0.179967"
      ]
     },
     "execution_count": 224,
     "metadata": {},
     "output_type": "execute_result"
    }
   ],
   "source": [
    "solving_t([0.55,1.1,3.6],1.0989)"
   ]
  },
  {
   "cell_type": "code",
   "execution_count": 227,
   "metadata": {},
   "outputs": [
    {
     "data": {
      "text/plain": [
       "0.4998"
      ]
     },
     "execution_count": 227,
     "metadata": {},
     "output_type": "execute_result"
    }
   ],
   "source": [
    "1-1.22*0.41"
   ]
  },
  {
   "cell_type": "code",
   "execution_count": 232,
   "metadata": {},
   "outputs": [
    {
     "data": {
      "text/plain": [
       "0.09019999999999999"
      ]
     },
     "execution_count": 232,
     "metadata": {},
     "output_type": "execute_result"
    }
   ],
   "source": [
    "0.22*0.41"
   ]
  },
  {
   "cell_type": "code",
   "execution_count": null,
   "metadata": {},
   "outputs": [],
   "source": []
  }
 ],
 "metadata": {
  "kernelspec": {
   "display_name": "Python 3.9.12 ('base')",
   "language": "python",
   "name": "python3"
  },
  "language_info": {
   "codemirror_mode": {
    "name": "ipython",
    "version": 3
   },
   "file_extension": ".py",
   "mimetype": "text/x-python",
   "name": "python",
   "nbconvert_exporter": "python",
   "pygments_lexer": "ipython3",
   "version": "3.9.12"
  },
  "orig_nbformat": 4,
  "vscode": {
   "interpreter": {
    "hash": "4f7527b0034a603a2f6ced09004f8a888be406f0f25f6fb9b2bc8cc71cf9bc4b"
   }
  }
 },
 "nbformat": 4,
 "nbformat_minor": 2
}
