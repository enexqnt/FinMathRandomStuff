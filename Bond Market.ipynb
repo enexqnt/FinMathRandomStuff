{
 "cells": [
  {
   "cell_type": "code",
   "execution_count": 1,
   "metadata": {},
   "outputs": [
    {
     "name": "stderr",
     "output_type": "stream",
     "text": [
      "c:\\Users\\giuli\\anaconda3\\lib\\site-packages\\numpy\\_distributor_init.py:30: UserWarning: loaded more than 1 DLL from .libs:\n",
      "c:\\Users\\giuli\\anaconda3\\lib\\site-packages\\numpy\\.libs\\libopenblas.EL2C6PLE4ZYW3ECEVIV3OXXGRN2NRFM2.gfortran-win_amd64.dll\n",
      "c:\\Users\\giuli\\anaconda3\\lib\\site-packages\\numpy\\.libs\\libopenblas.XWYDX2IKJW2NMTWSFYNGFUWKQU3LYTCZ.gfortran-win_amd64.dll\n",
      "  warnings.warn(\"loaded more than 1 DLL from .libs:\"\n"
     ]
    }
   ],
   "source": [
    "import pandas as pd\n",
    "import numpy as np"
   ]
  },
  {
   "cell_type": "markdown",
   "metadata": {},
   "source": [
    "# Term structure"
   ]
  },
  {
   "cell_type": "markdown",
   "metadata": {},
   "source": [
    "$$\n",
    "B^{*}(t, T_x)=e^{-h^{*}(t, T) \\cdot T_x} \\quad ; T_x \\in[0,T]\n",
    "$$\n",
    "\n",
    "$$\n",
    "B(t, T)=[1+i(t, T)]^{-(T-t)}\n",
    "$$"
   ]
  },
  {
   "cell_type": "code",
   "execution_count": 2,
   "metadata": {},
   "outputs": [],
   "source": [
    "def annual_spot_prices(x,yields=True):\n",
    "    \"\"\"\n",
    "    Compute annual spot prices from the yield structure\n",
    "    \n",
    "    Args:\n",
    "        yields (np array): Yield structure, annual frequency\n",
    "    \n",
    "    Returns:\n",
    "        prices_ (np array): Annual bond prices\n",
    "    \n",
    "    \"\"\"\n",
    "    t=np.linspace(0,len(x)-1,len(x))+1\n",
    "    if yields==True:\n",
    "        prices_=np.exp(np.negative(x)*t)\n",
    "    else:\n",
    "        prices_=(1+x)**(-t)\n",
    "    return prices_"
   ]
  },
  {
   "cell_type": "markdown",
   "metadata": {},
   "source": [
    "--------------------------\n",
    "\n",
    "\n",
    "* Change frequency of the spot prices assuming an intra-year linearity:\n",
    "\n"
   ]
  },
  {
   "cell_type": "code",
   "execution_count": 3,
   "metadata": {},
   "outputs": [],
   "source": [
    "def interpolate(x,freq):\n",
    "    \"\"\"\n",
    "    Interpolate between two points, given a certain freqency\n",
    "    \n",
    "    Args:\n",
    "        x (np array): 1-D array with two values i.e. [1, 1.5]\n",
    "        freq (int): number of intervals in one year\n",
    "    \n",
    "    Returns:\n",
    "        m (np array): Interpolated points between\n",
    "    \n",
    "    \"\"\"\n",
    "    freq+=2\n",
    "    alpha=np.linspace(0,1,freq-1)\n",
    "    m=x[1]*(alpha)+x[0]*(1-alpha)\n",
    "    return m"
   ]
  },
  {
   "cell_type": "code",
   "execution_count": 4,
   "metadata": {},
   "outputs": [],
   "source": [
    "def linear_interp(X,freq):\n",
    "    \"\"\"\n",
    "    Interpolate the bond price structure, assuming an intra-year linearity\n",
    "    \n",
    "    Args:\n",
    "        x (np array): 1-D array of the original bond price structure\n",
    "        freq (int): number of intervals in one year\n",
    "    \n",
    "    Returns:\n",
    "        l (np array): Interpolated price structure\n",
    "    \n",
    "    \"\"\"\n",
    "    l=[]\n",
    "    for i in range(0,len(X)-1):\n",
    "        l.append(interpolate((X[i:i+2]),freq=freq)[:-1])\n",
    "    l.append(interpolate((X[i:i+2]),freq=freq)[-1:])\n",
    "    l=np.concatenate(l)\n",
    "\n",
    "    return l"
   ]
  },
  {
   "cell_type": "markdown",
   "metadata": {},
   "source": [
    "Forward spot prices:\n",
    "$$\n",
    "B^{*}(t, s, T)=\\frac{B^{*}(t, T)}{B^{*}(t, s)}\n",
    "$$"
   ]
  },
  {
   "cell_type": "code",
   "execution_count": 5,
   "metadata": {},
   "outputs": [],
   "source": [
    "def forward_prices(x):\n",
    "    \"\"\"\n",
    "    Compute forward spot prices\n",
    "    \n",
    "    Args:\n",
    "        x (np array): 1-D array of the original bond price structure\n",
    "    \n",
    "    Returns:\n",
    "        x (np array): 1-D array of the forwar prices\n",
    "    \n",
    "    \"\"\"\n",
    "    y=x[1:]/x[:-1]\n",
    "    y=np.concatenate([[x[0]],y])\n",
    "    return y"
   ]
  },
  {
   "cell_type": "markdown",
   "metadata": {},
   "source": [
    "$$\n",
    "i(0, t-1, t)=\\frac{(1+i(0, t))^{t}}{(1+i(0, t-1))^{t-1}}-1\n",
    "$$"
   ]
  },
  {
   "cell_type": "code",
   "execution_count": 6,
   "metadata": {},
   "outputs": [],
   "source": [
    "def forward_rates(x):\n",
    "    \"\"\"\n",
    "    Compute forward rates, given rates structure\n",
    "    \n",
    "    Args:\n",
    "        x (np array): 1-D array of the original rates structure\n",
    "    \n",
    "    Returns:\n",
    "        x (np array): 1-D array of the forward rates\n",
    "    \n",
    "    \"\"\"\n",
    "    y=np.array(x[0])\n",
    "    t=np.linspace(1,len(x)-1,len(x)-1)+1\n",
    "    z=(1+x[1:])**t/((1+x[:-1])**(t-1))-1\n",
    "    y=np.concatenate([[x[0]],z])\n",
    "    return y"
   ]
  },
  {
   "cell_type": "markdown",
   "metadata": {},
   "source": [
    "Interest from price:\n",
    "$$\n",
    "i^{*}(t, s, T)=B^{*}(t, s, T)^{-\\frac{1}{T-s}}-1\n",
    "$$"
   ]
  },
  {
   "cell_type": "code",
   "execution_count": 7,
   "metadata": {},
   "outputs": [],
   "source": [
    "def interest_from_price(x,freq=1):\n",
    "    t=np.linspace(0,len(x)-1,len(x))+1\n",
    "    y=x**(-freq*(1/t))-1\n",
    "    #y=np.concatenate([[1],y])\n",
    "    return y"
   ]
  },
  {
   "cell_type": "markdown",
   "metadata": {},
   "source": [
    "# Products\n",
    "\n",
    "**FLOATER**: it's a coupon bond whose first coupon $c_{1}$ is known and the others are related to a term structure of interest $s_{i}$; it can als pay a spread $s$.\n",
    "\n",
    "* Classic formula:\n",
    "$$\n",
    "F l=c_{1} B\\left(0, t_{1}\\right)+\\sum_{i=2}^{n} c_{i} B\\left(0, t_{i}\\right)+s \\sum_{i=2}^{n} B\\left(0, t_{i}\\right)\n",
    "$$\n",
    "\n",
    "* Multi period formula:\n",
    "$$\n",
    "Floater= \\frac{coupon}{frequency} \\sum_{p=1}^{freq} B(0,\\frac{p}{freq}) + \\sum_{s=2}^{T} \\sum_{p=1}^{freq}  \\{ i(0,s-1 + \\frac{p-1}{freq},s-1+\\frac{p}{freq})*B(0,s-1+\\frac{p}{freq})\\} + B(0,T)\n",
    "$$\n",
    "\n",
    "Reverse Floater: we have a floater whose coupon are computed as a maximum coupon $\\bar{c}$ reduced by a certain quantity related to the index: $c_{i}=\\bar{c}-\\alpha i(0, s, t)$.\n",
    "\n",
    "**CONVENTION**:\n",
    "* MARKET CONVENTION: the discount curve $B(0,t)$ is considered the same as the market \n",
    "* WITHOUT MARKET CONVENTION: the discount curve is different from the product term structure (yields from product, bonds from market)\n"
   ]
  },
  {
   "cell_type": "markdown",
   "metadata": {},
   "source": [
    "**Defaultable coupon bond** formula:\n",
    "$$\n",
    "D P_{0}=c_{6} \\sum_{s=0}^{2} \\sum_{k=1}^{6} B^{*}\\left(0, s+\\frac{k}{6}\\right)+c_{12} \\sum_{s=2}^{3} \\sum_{k=1}^{12} B^{*}\\left(0, s+\\frac{k}{12}\\right)+C_{n}^{\\prime} B^{*}(0,3)=48.82\n",
    "$$"
   ]
  },
  {
   "cell_type": "code",
   "execution_count": 8,
   "metadata": {},
   "outputs": [],
   "source": [
    "st=[0.998501124,\n",
    "0.997004496,\n",
    "0.993719803,\n",
    "0.991635181,\n",
    "0.988565872,\n",
    "]"
   ]
  },
  {
   "cell_type": "code",
   "execution_count": 9,
   "metadata": {},
   "outputs": [
    {
     "data": {
      "text/plain": [
       "array([0.99850112, 0.99843876, 0.9983764 , 0.99831405, 0.99825169,\n",
       "       0.99818933, 0.99812697, 0.99806461, 0.99800225, 0.99793989,\n",
       "       0.99787753, 0.99781517, 0.99775281, 0.99769045, 0.99762809,\n",
       "       0.99756573, 0.99750337, 0.99744101, 0.99737865, 0.99731629,\n",
       "       0.99725393, 0.99719157, 0.99712922, 0.99706686, 0.9970045 ,\n",
       "       0.99686763, 0.99673077, 0.99659391, 0.99645705, 0.99632018,\n",
       "       0.99618332, 0.99604646, 0.9959096 , 0.99577274, 0.99563587,\n",
       "       0.99549901, 0.99536215, 0.99522529, 0.99508843, 0.99495156,\n",
       "       0.9948147 , 0.99467784, 0.99454098, 0.99440411, 0.99426725,\n",
       "       0.99413039, 0.99399353, 0.99385667, 0.9937198 , 0.99363294,\n",
       "       0.99354608, 0.99345923, 0.99337237, 0.99328551, 0.99319865,\n",
       "       0.99311179, 0.99302493, 0.99293807, 0.99285121, 0.99276435,\n",
       "       0.99267749, 0.99259063, 0.99250377, 0.99241691, 0.99233006,\n",
       "       0.9922432 , 0.99215634, 0.99206948, 0.99198262, 0.99189576,\n",
       "       0.9918089 , 0.99172204, 0.99163518, 0.99150729, 0.99137941,\n",
       "       0.99125152, 0.99112363, 0.99099574, 0.99086785, 0.99073997,\n",
       "       0.99061208, 0.99048419, 0.9903563 , 0.99022841, 0.99010053,\n",
       "       0.98997264, 0.98984475, 0.98971686, 0.98958897, 0.98946109,\n",
       "       0.9893332 , 0.98920531, 0.98907742, 0.98894954, 0.98882165,\n",
       "       0.98869376, 0.98856587])"
      ]
     },
     "execution_count": 9,
     "metadata": {},
     "output_type": "execute_result"
    }
   ],
   "source": [
    "linear_interp(np.array(st), freq=24)"
   ]
  },
  {
   "cell_type": "markdown",
   "metadata": {},
   "source": [
    "**COUPON**:\n",
    "* tenor  --> fisso, lo dividi\n",
    "* natural --> cambia in ogni sotto periodo"
   ]
  },
  {
   "cell_type": "markdown",
   "metadata": {},
   "source": [
    "**SWAP**:\n",
    "\n",
    "It's composed by two leg. The first is fixed and pays a constant swap rate $r^{s}$; the second one is floating and pays a certain coupon related to an index. You get the swap rate by equalizing the values of the two legs.\n",
    "\n",
    "Forward swap contract: the same as before, but the flows of money starts defered by a certain period.\n",
    "Both can ask for a swap yield, and be related to a yield term structure.\n",
    "\n",
    "\n",
    "Basis swap: we have two floating leg. The first one has payment related to a certain index, and the second one to another index plus a spread, which acts like a compensator. Again, you equalize the values of the two legs to get the spread."
   ]
  },
  {
   "cell_type": "markdown",
   "metadata": {},
   "source": [
    "# D&C\n",
    "\n",
    "$$\n",
    "D=\\frac{\\sum_{k=1}^{n}\\left(t_{k}-t\\right) x_{k} B\\left(t, t_{k}\\right)}{\\sum_{k=1}^{n} x_{k} B\\left(t, t_{k}\\right)}\n",
    "$$\n",
    "\n",
    "where:\n",
    "* $x_k$ = coupons\n",
    "* $B(t,t_k)$ = discounting bonds\n",
    "* $t_k-t$"
   ]
  },
  {
   "cell_type": "code",
   "execution_count": 10,
   "metadata": {},
   "outputs": [],
   "source": [
    "def duration(b,t=None,x=None,T=None,freq=1):\n",
    "    \"\"\"\n",
    "    Compute duration\n",
    "    \n",
    "    Args:\n",
    "        b (ndarray): 1-D array of bond prices\n",
    "        t (`ndarray`, optional): delta t \n",
    "        x (`ndarray`, optional): coupons\n",
    "        freq (`int`, optional): frequency, needed when t is not specified\n",
    "        T (`int`, optional): total timeframe, needed when t is not specified\n",
    "    \n",
    "    Returns:\n",
    "        d (`int`): `duration`\n",
    "    \n",
    "    \"\"\"\n",
    "    if x==None:\n",
    "        x=interest_from_price(b,freq=freq)\n",
    "    if t is None:\n",
    "        t=np.linspace(1,T,len(b))\n",
    "\n",
    "    n=np.sum(t*b*x)\n",
    "    d=np.sum(b*x)\n",
    "\n",
    "    return n/d"
   ]
  },
  {
   "cell_type": "markdown",
   "metadata": {},
   "source": [
    "$$\n",
    "C=\\frac{\\sum_{k=1}^{n}\\left(t_{k}-t\\right)^{2} x_{k} B\\left(t, t_{k}\\right)}{\\sum_{k=1}^{n} x_{k} B\\left(t, t_{k}\\right)}\n",
    "$$"
   ]
  },
  {
   "cell_type": "code",
   "execution_count": 11,
   "metadata": {},
   "outputs": [],
   "source": [
    "def convexity(b,t=None,x=None,T=None,freq=1):\n",
    "    \"\"\"\n",
    "    Compute duration\n",
    "    \n",
    "    Args:\n",
    "        b (ndarray): 1-D array of bond prices\n",
    "        t (`ndarray`, optional): delta t \n",
    "        x (`ndarray`, optional): coupons\n",
    "        freq (`int`, optional): frequency, needed when t is not specified\n",
    "        T (`int`, optional): total timeframe, needed when t is not specified\n",
    "    \n",
    "    Returns:\n",
    "        d (`int`): `duration`\n",
    "    \n",
    "    \"\"\"\n",
    "    if x==None:\n",
    "        x=interest_from_price(b,freq=freq)\n",
    "    if t is None:\n",
    "        t=np.linspace(1,T,len(b))\n",
    "\n",
    "    n=np.sum(np.square(t)*b*x)\n",
    "    d=np.sum(b*x)\n",
    "\n",
    "    return n/d"
   ]
  }
 ],
 "metadata": {
  "kernelspec": {
   "display_name": "Python 3.9.12 ('base')",
   "language": "python",
   "name": "python3"
  },
  "language_info": {
   "codemirror_mode": {
    "name": "ipython",
    "version": 3
   },
   "file_extension": ".py",
   "mimetype": "text/x-python",
   "name": "python",
   "nbconvert_exporter": "python",
   "pygments_lexer": "ipython3",
   "version": "3.9.12"
  },
  "orig_nbformat": 4,
  "vscode": {
   "interpreter": {
    "hash": "4f7527b0034a603a2f6ced09004f8a888be406f0f25f6fb9b2bc8cc71cf9bc4b"
   }
  }
 },
 "nbformat": 4,
 "nbformat_minor": 2
}
